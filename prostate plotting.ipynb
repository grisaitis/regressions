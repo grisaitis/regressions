{
 "metadata": {
  "name": ""
 },
 "nbformat": 3,
 "nbformat_minor": 0,
 "worksheets": [
  {
   "cells": [
    {
     "cell_type": "markdown",
     "metadata": {},
     "source": [
      "## Analyzing the prostate cancer data set\n",
      "\n",
      "The prostate cancer data set is used as the main analysis example for regression techniques in the text, Elements of Statistical Learning (ESL). My goal here is to reproduce a few of the results and try out the different regression techniques. \n",
      "\n",
      "The data source is http://statweb.stanford.edu/~tibs/ElemStatLearn/data.html\n",
      "\n",
      "The ESL text is located at http://statweb.stanford.edu/~tibs/ElemStatLearn/printings/ESLII_print10.pdf\n",
      "\n"
     ]
    },
    {
     "cell_type": "code",
     "collapsed": false,
     "input": [
      "import pandas as pd\n",
      "import numpy as np\n",
      "from pandas.tools.plotting import scatter_matrix\n",
      "import matplotlib as mpl\n",
      "import matplotlib.pyplot as plt\n",
      "import seaborn as sns"
     ],
     "language": "python",
     "metadata": {},
     "outputs": []
    },
    {
     "cell_type": "markdown",
     "metadata": {},
     "source": [
      "For prettier graphs (according to my aesthetic preferences), I do..."
     ]
    },
    {
     "cell_type": "code",
     "collapsed": false,
     "input": [
      "# use ggplot-like styling\n",
      "plt.style.use('ggplot') # requires matplotlib v1.4\n",
      "mpl.rcParams['font.family'] = 'Ubuntu Mono' # use monospace font\n",
      "%matplotlib inline"
     ],
     "language": "python",
     "metadata": {},
     "outputs": []
    },
    {
     "cell_type": "code",
     "collapsed": false,
     "input": [
      "# todo: change this to use urllib2, instead of local file\n",
      "# info... http://stackoverflow.com/questions/1393324/in-python-given-a-url-to-a-text-file-what-is-the-simplest-way-to-read-the-cont\n",
      "dataURL = 'http://statweb.stanford.edu/~tibs/ElemStatLearn/datasets/prostate.data'\n",
      "df = pd.read_csv(dataURL,sep='\\t',index_col=0)"
     ],
     "language": "python",
     "metadata": {},
     "outputs": []
    },
    {
     "cell_type": "code",
     "collapsed": false,
     "input": [
      "df['Intercept'] = 1\n",
      "df.head()"
     ],
     "language": "python",
     "metadata": {},
     "outputs": []
    },
    {
     "cell_type": "markdown",
     "metadata": {},
     "source": [
      "Next we make scatter plot matrices, which are a nice and informative data visualization. This can be implemented in various ways:\n",
      "1. the `scatter_matrix` method from `pandas.tools.plotting`\n",
      "2. the `pairplot` method from `seaborn`\n",
      "3. other ways too, probably, but these two are fun and good enough\n",
      "\n",
      "The first step is to prepare a `pandas` `DataFrame` containing the data features we want to plot, and in what order. "
     ]
    },
    {
     "cell_type": "code",
     "collapsed": false,
     "input": [
      "featuresToPlot = ['lpsa','lcavol','lweight','age','lbph','svi','lcp','gleason','pgg45']\n",
      "# featuresToPlot = ['lpsa','lcavol','lweight','age','lbph']\n",
      "# featuresToPlot = ['age','lbph']\n",
      "dfToPlot = df[featuresToPlot]"
     ],
     "language": "python",
     "metadata": {},
     "outputs": []
    },
    {
     "cell_type": "markdown",
     "metadata": {},
     "source": [
      "Here we implement #1, using `scatter_matrix` from `pandas.tools.plotting`."
     ]
    },
    {
     "cell_type": "code",
     "collapsed": false,
     "input": [
      "# create figure with plots\n",
      "pd.tools.plotting.scatter_matrix(dfToPlot, alpha=0.7, diagonal='kde',figsize=(9,9))\n",
      "plt.savefig('prostate_scatterplot_matrix_pandas.svg')\n",
      "plt.show()"
     ],
     "language": "python",
     "metadata": {},
     "outputs": []
    },
    {
     "cell_type": "markdown",
     "metadata": {},
     "source": [
      "Next we implement #2, using `seaborn`'s `pairplot` method "
     ]
    },
    {
     "cell_type": "code",
     "collapsed": false,
     "input": [
      "sns.set()\n",
      "sns.pairplot(dfToPlot, size=1.5)\n",
      "plt.savefig('prostate_scatterplot_matrix_seaborn.svg')\n",
      "plt.show()"
     ],
     "language": "python",
     "metadata": {},
     "outputs": []
    },
    {
     "cell_type": "code",
     "collapsed": false,
     "input": [
      "# featuresToPlot = ['lpsa','lcavol','lweight','age','lbph','svi','lcp','gleason','pgg45']\n",
      "# featuresToPlot = ['lbph','svi']\n",
      "featuresToPlot = ['lpsa','lcavol','lweight','age','lbph','lcp','gleason','pgg45']\n",
      "dfToPlot = df[featuresToPlot]\n",
      "\n",
      "sns.set()\n",
      "\n",
      "# make a grid object\n",
      "g = sns.PairGrid(dfToPlot, diag_sharey=False,size=7)\n",
      "\n",
      "g.map_upper(plt.scatter)\n",
      "g.map_lower(sns.kdeplot)\n",
      "g.map_diag(sns.kdeplot, lw=3)\n",
      "\n",
      "plt.savefig('test5.svg')\n",
      "plt.show()"
     ],
     "language": "python",
     "metadata": {},
     "outputs": []
    },
    {
     "cell_type": "code",
     "collapsed": false,
     "input": [
      "# featuresToPlot = ['lpsa','lcavol','lweight','age','lbph','svi','lcp','gleason','pgg45']\n",
      "featuresToPlot = ['lbph','svi']\n",
      "# featuresToPlot = ['lpsa','lcavol','lweight','age','lbph','lcp','gleason','pgg45']\n",
      "dfToPlot = df[featuresToPlot]\n",
      "\n",
      "sns.set()\n",
      "\n",
      "# make a grid object\n",
      "g = sns.PairGrid(dfToPlot, diag_sharey=False,size=7)\n",
      "\n",
      "g.map_upper(plt.scatter)\n",
      "g.map_lower(sns.kdeplot)\n",
      "g.map_diag(sns.kdeplot, lw=3)\n",
      "\n",
      "plt.savefig('test5.svg')\n",
      "plt.show()"
     ],
     "language": "python",
     "metadata": {},
     "outputs": []
    },
    {
     "cell_type": "code",
     "collapsed": false,
     "input": [
      "cov_test = np.array([[1,0.999],\n",
      "                     [0.999,1]\n",
      "                     ])\n",
      "\n",
      "print cov_test.__class__\n",
      "print cov_test.shape\n",
      "\n",
      "print np.linalg.eigvals(cov_test)\n"
     ],
     "language": "python",
     "metadata": {},
     "outputs": []
    },
    {
     "cell_type": "code",
     "collapsed": false,
     "input": [
      "data_svi = df['svi'].transpose()\n",
      "data_lbph = df['lbph'].transpose()\n",
      "c1 = np.cov(m=data_svi,y=data_lbph)\n",
      "print c1\n",
      "print np.linalg.eigvals(c1)\n",
      "\n",
      "c2 = np.cov(m=df[['svi','lbph']].transpose())\n",
      "print c2\n",
      "print np.linalg.eigvals(c2)"
     ],
     "language": "python",
     "metadata": {},
     "outputs": []
    },
    {
     "cell_type": "code",
     "collapsed": false,
     "input": [
      "sns.set()\n",
      "x = df['svi']\n",
      "y = df['lbph']\n",
      "print df['svi'].values.shape\n",
      "# sm.nonparametric.KDEMultivariate?\n",
      "# kde = sm.nonparametric.KDEMultivariate([x, y], \"cc\")\n",
      "# print kde\n",
      "data = df[['lbph','svi']]\n",
      "x = data.iloc[:, 0].values\n",
      "print x.shape\n",
      "if isinstance(data, pd.DataFrame) and np.ndim(data) > 1: print True\n",
      "# sns.kdeplot(data)\n",
      "\n",
      "# plt.show()"
     ],
     "language": "python",
     "metadata": {},
     "outputs": [
      {
       "output_type": "stream",
       "stream": "stdout",
       "text": [
        "(97,)\n",
        "(97,)\n",
        "True\n"
       ]
      }
     ],
     "prompt_number": 112
    },
    {
     "cell_type": "code",
     "collapsed": false,
     "input": [
      "import statsmodels.api as sm"
     ],
     "language": "python",
     "metadata": {},
     "outputs": [],
     "prompt_number": 101
    },
    {
     "cell_type": "code",
     "collapsed": false,
     "input": [
      "df[['svi','lbph']]"
     ],
     "language": "python",
     "metadata": {},
     "outputs": []
    },
    {
     "cell_type": "code",
     "collapsed": false,
     "input": [
      "print df.lbph.value_counts(dropna=False,bins = 2)"
     ],
     "language": "python",
     "metadata": {},
     "outputs": []
    },
    {
     "cell_type": "code",
     "collapsed": false,
     "input": [],
     "language": "python",
     "metadata": {},
     "outputs": []
    }
   ],
   "metadata": {}
  }
 ]
}